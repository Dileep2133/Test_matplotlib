{
 "cells": [
  {
   "cell_type": "code",
   "execution_count": 1,
   "id": "6ef05218",
   "metadata": {},
   "outputs": [],
   "source": [
    "import pandas as pd\n",
    "import numpy as np"
   ]
  },
  {
   "cell_type": "code",
   "execution_count": 10,
   "id": "ba49ac5a",
   "metadata": {},
   "outputs": [],
   "source": [
    "ratingData = pd.io.parsers.read_csv(\"C:\\\\Users\\\\dilee\\\\OneDrive\\\\Desktop\\\\study\\\\pantech\\\\Machine learning\\\\project\\\\Clustering\\\\Recomdation_SVD-22\\\\ratings.dat\",names= ['user_id', 'movie_id', 'rating', 'time'], engine='python', delimiter='::' )"
   ]
  },
  {
   "cell_type": "code",
   "execution_count": 11,
   "id": "c349cd6a",
   "metadata": {},
   "outputs": [
    {
     "data": {
      "text/html": [
       "<div>\n",
       "<style scoped>\n",
       "    .dataframe tbody tr th:only-of-type {\n",
       "        vertical-align: middle;\n",
       "    }\n",
       "\n",
       "    .dataframe tbody tr th {\n",
       "        vertical-align: top;\n",
       "    }\n",
       "\n",
       "    .dataframe thead th {\n",
       "        text-align: right;\n",
       "    }\n",
       "</style>\n",
       "<table border=\"1\" class=\"dataframe\">\n",
       "  <thead>\n",
       "    <tr style=\"text-align: right;\">\n",
       "      <th></th>\n",
       "      <th>user_id</th>\n",
       "      <th>movie_id</th>\n",
       "      <th>rating</th>\n",
       "      <th>time</th>\n",
       "    </tr>\n",
       "  </thead>\n",
       "  <tbody>\n",
       "    <tr>\n",
       "      <th>0</th>\n",
       "      <td>1</td>\n",
       "      <td>1193</td>\n",
       "      <td>5</td>\n",
       "      <td>978300760</td>\n",
       "    </tr>\n",
       "    <tr>\n",
       "      <th>1</th>\n",
       "      <td>1</td>\n",
       "      <td>661</td>\n",
       "      <td>3</td>\n",
       "      <td>978302109</td>\n",
       "    </tr>\n",
       "    <tr>\n",
       "      <th>2</th>\n",
       "      <td>1</td>\n",
       "      <td>914</td>\n",
       "      <td>3</td>\n",
       "      <td>978301968</td>\n",
       "    </tr>\n",
       "    <tr>\n",
       "      <th>3</th>\n",
       "      <td>1</td>\n",
       "      <td>3408</td>\n",
       "      <td>4</td>\n",
       "      <td>978300275</td>\n",
       "    </tr>\n",
       "    <tr>\n",
       "      <th>4</th>\n",
       "      <td>1</td>\n",
       "      <td>2355</td>\n",
       "      <td>5</td>\n",
       "      <td>978824291</td>\n",
       "    </tr>\n",
       "  </tbody>\n",
       "</table>\n",
       "</div>"
      ],
      "text/plain": [
       "   user_id  movie_id  rating       time\n",
       "0        1      1193       5  978300760\n",
       "1        1       661       3  978302109\n",
       "2        1       914       3  978301968\n",
       "3        1      3408       4  978300275\n",
       "4        1      2355       5  978824291"
      ]
     },
     "execution_count": 11,
     "metadata": {},
     "output_type": "execute_result"
    }
   ],
   "source": [
    "ratingData.head(5)"
   ]
  },
  {
   "cell_type": "code",
   "execution_count": 12,
   "id": "725e2e98",
   "metadata": {},
   "outputs": [],
   "source": [
    "movieData = pd.io.parsers.read_csv(\"C:\\\\Users\\\\dilee\\\\OneDrive\\\\Desktop\\\\study\\\\pantech\\\\Machine learning\\\\project\\\\Clustering\\\\Recomdation_SVD-22\\\\movies.dat\",names= ['movie_id', 'title', 'genre'], encoding='latin-1', engine='python', delimiter='::' )"
   ]
  },
  {
   "cell_type": "code",
   "execution_count": 13,
   "id": "0c1fe1a7",
   "metadata": {},
   "outputs": [
    {
     "data": {
      "text/html": [
       "<div>\n",
       "<style scoped>\n",
       "    .dataframe tbody tr th:only-of-type {\n",
       "        vertical-align: middle;\n",
       "    }\n",
       "\n",
       "    .dataframe tbody tr th {\n",
       "        vertical-align: top;\n",
       "    }\n",
       "\n",
       "    .dataframe thead th {\n",
       "        text-align: right;\n",
       "    }\n",
       "</style>\n",
       "<table border=\"1\" class=\"dataframe\">\n",
       "  <thead>\n",
       "    <tr style=\"text-align: right;\">\n",
       "      <th></th>\n",
       "      <th>movie_id</th>\n",
       "      <th>title</th>\n",
       "      <th>genre</th>\n",
       "    </tr>\n",
       "  </thead>\n",
       "  <tbody>\n",
       "    <tr>\n",
       "      <th>0</th>\n",
       "      <td>1</td>\n",
       "      <td>Toy Story (1995)</td>\n",
       "      <td>Animation|Children's|Comedy</td>\n",
       "    </tr>\n",
       "    <tr>\n",
       "      <th>1</th>\n",
       "      <td>2</td>\n",
       "      <td>Jumanji (1995)</td>\n",
       "      <td>Adventure|Children's|Fantasy</td>\n",
       "    </tr>\n",
       "    <tr>\n",
       "      <th>2</th>\n",
       "      <td>3</td>\n",
       "      <td>Grumpier Old Men (1995)</td>\n",
       "      <td>Comedy|Romance</td>\n",
       "    </tr>\n",
       "    <tr>\n",
       "      <th>3</th>\n",
       "      <td>4</td>\n",
       "      <td>Waiting to Exhale (1995)</td>\n",
       "      <td>Comedy|Drama</td>\n",
       "    </tr>\n",
       "    <tr>\n",
       "      <th>4</th>\n",
       "      <td>5</td>\n",
       "      <td>Father of the Bride Part II (1995)</td>\n",
       "      <td>Comedy</td>\n",
       "    </tr>\n",
       "  </tbody>\n",
       "</table>\n",
       "</div>"
      ],
      "text/plain": [
       "   movie_id                               title                         genre\n",
       "0         1                    Toy Story (1995)   Animation|Children's|Comedy\n",
       "1         2                      Jumanji (1995)  Adventure|Children's|Fantasy\n",
       "2         3             Grumpier Old Men (1995)                Comedy|Romance\n",
       "3         4            Waiting to Exhale (1995)                  Comedy|Drama\n",
       "4         5  Father of the Bride Part II (1995)                        Comedy"
      ]
     },
     "execution_count": 13,
     "metadata": {},
     "output_type": "execute_result"
    }
   ],
   "source": [
    "movieData.head(5)"
   ]
  },
  {
   "cell_type": "markdown",
   "id": "79619586",
   "metadata": {},
   "source": [
    "# rating matrix"
   ]
  },
  {
   "cell_type": "code",
   "execution_count": 14,
   "id": "6d4864d0",
   "metadata": {},
   "outputs": [
    {
     "name": "stdout",
     "output_type": "stream",
     "text": [
      "[[5 0 0 ... 0 0 3]\n",
      " [0 0 0 ... 0 0 0]\n",
      " [0 0 0 ... 0 0 0]\n",
      " ...\n",
      " [0 0 0 ... 0 0 0]\n",
      " [0 0 0 ... 0 0 0]\n",
      " [0 0 0 ... 0 0 0]]\n"
     ]
    }
   ],
   "source": [
    "ratingMatrix = np.ndarray(\n",
    "    shape=(np.max(ratingData.movie_id.values), np.max(ratingData.user_id.values)),\n",
    "    dtype=np.uint8)\n",
    "ratingMatrix[ratingData.movie_id.values-1, ratingData.user_id.values-1] = ratingData.rating.values\n",
    "print(ratingMatrix)"
   ]
  },
  {
   "cell_type": "markdown",
   "id": "2ee03692",
   "metadata": {},
   "source": [
    "# normalisation"
   ]
  },
  {
   "cell_type": "code",
   "execution_count": 15,
   "id": "bea4af2f",
   "metadata": {},
   "outputs": [
    {
     "name": "stdout",
     "output_type": "stream",
     "text": [
      "[[ 3.57400662 -1.42599338 -1.42599338 ... -1.42599338 -1.42599338\n",
      "   1.57400662]\n",
      " [-0.37152318 -0.37152318 -0.37152318 ... -0.37152318 -0.37152318\n",
      "  -0.37152318]\n",
      " [-0.23874172 -0.23874172 -0.23874172 ... -0.23874172 -0.23874172\n",
      "  -0.23874172]\n",
      " ...\n",
      " [-0.03278146 -0.03278146 -0.03278146 ... -0.03278146 -0.03278146\n",
      "  -0.03278146]\n",
      " [-0.02582781 -0.02582781 -0.02582781 ... -0.02582781 -0.02582781\n",
      "  -0.02582781]\n",
      " [-0.24288079 -0.24288079 -0.24288079 ... -0.24288079 -0.24288079\n",
      "  -0.24288079]]\n"
     ]
    }
   ],
   "source": [
    "normalizedMatrix = ratingMatrix - np.asarray([(np.mean(ratingMatrix, 1))]).T\n",
    "print(normalizedMatrix)"
   ]
  },
  {
   "cell_type": "markdown",
   "id": "1b25468b",
   "metadata": {},
   "source": [
    "# computing SVD"
   ]
  },
  {
   "cell_type": "code",
   "execution_count": 16,
   "id": "fdf22b7d",
   "metadata": {},
   "outputs": [],
   "source": [
    "A = normalizedMatrix.T / np.sqrt(ratingMatrix.shape[0] - 1)\n",
    "U, S, V = np.linalg.svd(A)"
   ]
  },
  {
   "cell_type": "markdown",
   "id": "c7d9c453",
   "metadata": {},
   "source": [
    "### Calculate cosine similarity, sort by most similar and return the top N"
   ]
  },
  {
   "cell_type": "code",
   "execution_count": 17,
   "id": "6ab1e5e6",
   "metadata": {},
   "outputs": [],
   "source": [
    "def similar(ratingData, movie_id, top_n):\n",
    "    index = movie_id - 1 # Movie id starts from 1\n",
    "    movie_row = ratingData[index, :]\n",
    "    magnitude = np.sqrt(np.einsum('ij, ij -> i', ratingData, ratingData)) #Einstein summation |  traditional matrix multiplication and is equivalent to np.matmul(a,b)\n",
    "    similarity = np.dot(movie_row, ratingData.T) / (magnitude[index] * magnitude)\n",
    "    sort_indexes = np.argsort(-similarity) #Perform an indirect sort along the given axis (Last axis)\n",
    "    return sort_indexes[:top_n]"
   ]
  },
  {
   "cell_type": "markdown",
   "id": "e9cf5d87",
   "metadata": {},
   "source": [
    "### Select k principal components to represent the movies, a movie_id to find recommendations and print the top_n results"
   ]
  },
  {
   "cell_type": "code",
   "execution_count": 19,
   "id": "352890dd",
   "metadata": {},
   "outputs": [
    {
     "name": "stdout",
     "output_type": "stream",
     "text": [
      "Recommendations for Movie Father of the Bride Part II (1995): \n",
      "\n",
      "Father of the Bride Part II (1995)\n",
      "Home Alone (1990)\n",
      "Home Alone 2: Lost in New York (1992)\n",
      "Jack (1996)\n",
      "Flintstones, The (1994)\n"
     ]
    },
    {
     "name": "stderr",
     "output_type": "stream",
     "text": [
      "C:\\Users\\dilee\\AppData\\Local\\Temp\\ipykernel_12712\\1928412997.py:5: RuntimeWarning: invalid value encountered in true_divide\n",
      "  similarity = np.dot(movie_row, ratingData.T) / (magnitude[index] * magnitude)\n"
     ]
    }
   ],
   "source": [
    "k = 50\n",
    "movie_id = 5\n",
    "top_n = 5\n",
    "\n",
    "sliced = V.T[:, :k] # representative data\n",
    "indexes = similar(sliced, movie_id, top_n)\n",
    "\n",
    "print('Recommendations for Movie {0}: \\n'.format(\n",
    "movieData[movieData.movie_id == movie_id].title.values[0]))\n",
    "for id in indexes + 1:\n",
    "    print(movieData[movieData.movie_id == id].title.values[0])"
   ]
  },
  {
   "cell_type": "code",
   "execution_count": null,
   "id": "df437d3f",
   "metadata": {},
   "outputs": [],
   "source": []
  },
  {
   "cell_type": "code",
   "execution_count": null,
   "id": "8d0179f0",
   "metadata": {},
   "outputs": [],
   "source": []
  }
 ],
 "metadata": {
  "kernelspec": {
   "display_name": "Python 3 (ipykernel)",
   "language": "python",
   "name": "python3"
  },
  "language_info": {
   "codemirror_mode": {
    "name": "ipython",
    "version": 3
   },
   "file_extension": ".py",
   "mimetype": "text/x-python",
   "name": "python",
   "nbconvert_exporter": "python",
   "pygments_lexer": "ipython3",
   "version": "3.9.12"
  }
 },
 "nbformat": 4,
 "nbformat_minor": 5
}
