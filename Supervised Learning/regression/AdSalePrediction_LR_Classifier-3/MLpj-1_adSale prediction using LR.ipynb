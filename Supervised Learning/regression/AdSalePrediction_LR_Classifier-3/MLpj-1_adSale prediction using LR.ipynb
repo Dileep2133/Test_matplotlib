{
 "cells": [
  {
   "cell_type": "code",
   "execution_count": null,
   "id": "23ab2009",
   "metadata": {},
   "outputs": [],
   "source": [
    "!pip install opencv-python"
   ]
  },
  {
   "cell_type": "code",
   "execution_count": 1,
   "id": "8f2b30c3",
   "metadata": {},
   "outputs": [],
   "source": [
    "import pandas as pd\n",
    "import numpy as np"
   ]
  },
  {
   "cell_type": "code",
   "execution_count": 2,
   "id": "ab52f36f",
   "metadata": {},
   "outputs": [],
   "source": [
    "from sklearn.model_selection import train_test_split"
   ]
  },
  {
   "cell_type": "code",
   "execution_count": 3,
   "id": "0b84d9b9",
   "metadata": {},
   "outputs": [],
   "source": [
    "data= pd.read_csv(\"C:\\\\Users\\\\dilee\\\\OneDrive\\\\Desktop\\\\study\\\\pantech\\Machine learning\\project\\\\3_AdSalePrediction_LR_Classifier\\\\DigitalAd_dataset.csv\")"
   ]
  },
  {
   "cell_type": "code",
   "execution_count": 4,
   "id": "eac376d8",
   "metadata": {},
   "outputs": [
    {
     "name": "stdout",
     "output_type": "stream",
     "text": [
      "   Age  Salary  Status\n",
      "0   18   82000       0\n",
      "1   29   80000       0\n",
      "2   47   25000       1\n",
      "3   45   26000       1\n",
      "4   46   28000       1               Age         Salary      Status\n",
      "count  400.000000     400.000000  400.000000\n",
      "mean    37.655000   69742.500000    0.357500\n",
      "std     10.482877   34096.960282    0.479864\n",
      "min     18.000000   15000.000000    0.000000\n",
      "25%     29.750000   43000.000000    0.000000\n",
      "50%     37.000000   70000.000000    0.000000\n",
      "75%     46.000000   88000.000000    1.000000\n",
      "max     60.000000  150000.000000    1.000000 (400, 3)\n"
     ]
    }
   ],
   "source": [
    "print(data.head(),data.describe(),data.shape)"
   ]
  },
  {
   "cell_type": "code",
   "execution_count": 5,
   "id": "35870143",
   "metadata": {},
   "outputs": [],
   "source": [
    "x= data.iloc[:,:-1].values\n"
   ]
  },
  {
   "cell_type": "code",
   "execution_count": 6,
   "id": "14594b63",
   "metadata": {},
   "outputs": [],
   "source": [
    "y= data.iloc[:,-1].values\n"
   ]
  },
  {
   "cell_type": "code",
   "execution_count": 7,
   "id": "b569c783",
   "metadata": {},
   "outputs": [],
   "source": [
    "x_train, x_test,y_train,y_test= train_test_split(x,y, test_size=0.30, random_state = 0)"
   ]
  },
  {
   "cell_type": "markdown",
   "id": "ec9d0aa7",
   "metadata": {},
   "source": [
    "# feature scaling so every feature can properly comtribute to prediction of o/p"
   ]
  },
  {
   "cell_type": "markdown",
   "id": "4739c397",
   "metadata": {},
   "source": [
    "# standerdisation is used to get values in typical range "
   ]
  },
  {
   "cell_type": "markdown",
   "id": "c0532d58",
   "metadata": {},
   "source": [
    "# normalisation is used for getting values like hogh low typically 1 or 0 kind"
   ]
  },
  {
   "cell_type": "code",
   "execution_count": 8,
   "id": "821c70f8",
   "metadata": {},
   "outputs": [],
   "source": [
    "#!pip install sklearn"
   ]
  },
  {
   "cell_type": "code",
   "execution_count": 9,
   "id": "fd38eaca",
   "metadata": {},
   "outputs": [],
   "source": [
    "from sklearn.preprocessing import StandardScaler\n",
    "sc= StandardScaler()"
   ]
  },
  {
   "cell_type": "code",
   "execution_count": 10,
   "id": "2b1d1f44",
   "metadata": {},
   "outputs": [],
   "source": [
    "x_train=sc.fit_transform(x_train)\n",
    "x_test= sc.transform(x_test)"
   ]
  },
  {
   "cell_type": "markdown",
   "id": "b0d57ffc",
   "metadata": {},
   "source": [
    "#training"
   ]
  },
  {
   "cell_type": "code",
   "execution_count": 11,
   "id": "1a7770fe",
   "metadata": {},
   "outputs": [
    {
     "data": {
      "text/plain": [
       "LogisticRegression(random_state=0)"
      ]
     },
     "execution_count": 11,
     "metadata": {},
     "output_type": "execute_result"
    }
   ],
   "source": [
    "from sklearn.linear_model import LogisticRegression \n",
    "model= LogisticRegression(random_state = 0)\n",
    "model.fit(x_train, y_train)"
   ]
  },
  {
   "cell_type": "code",
   "execution_count": 12,
   "id": "ac1e328c",
   "metadata": {},
   "outputs": [],
   "source": [
    "#age= int(input(\"enter age :-\"))\n",
    "#salary= int(input(\"enter salary :-\"))\n",
    "#newCrust=[(age,salary)]"
   ]
  },
  {
   "cell_type": "code",
   "execution_count": 13,
   "id": "fcceb302",
   "metadata": {},
   "outputs": [
    {
     "data": {
      "text/plain": [
       "'result = model.predict(sc.transform(newCrust))\\nresult\\nif result==1:\\n    print(\"he will Buy\")\\nelse:\\n    print(\"he will not buy\")\\n    '"
      ]
     },
     "execution_count": 13,
     "metadata": {},
     "output_type": "execute_result"
    }
   ],
   "source": [
    "'''result = model.predict(sc.transform(newCrust))\n",
    "result\n",
    "if result==1:\n",
    "    print(\"he will Buy\")\n",
    "else:\n",
    "    print(\"he will not buy\")\n",
    "    '''\n",
    "    "
   ]
  },
  {
   "cell_type": "code",
   "execution_count": 14,
   "id": "36e2ba3f",
   "metadata": {},
   "outputs": [],
   "source": [
    "y_pred= model.predict(x_test)"
   ]
  },
  {
   "cell_type": "code",
   "execution_count": 15,
   "id": "d946fceb",
   "metadata": {},
   "outputs": [],
   "source": [
    "#print(np.concatenate((y_pred.reshape(len(y_pred),1), y_test.reshape(len(y_test),1)),1),)"
   ]
  },
  {
   "cell_type": "code",
   "execution_count": 16,
   "id": "456a5034",
   "metadata": {},
   "outputs": [],
   "source": [
    "from sklearn.metrics import confusion_matrix, accuracy_score \n",
    "cm= confusion_matrix(y_test, y_pred)\n"
   ]
  },
  {
   "cell_type": "code",
   "execution_count": 17,
   "id": "c1ee2102",
   "metadata": {},
   "outputs": [
    {
     "name": "stdout",
     "output_type": "stream",
     "text": [
      "confusion matix\n",
      "[[72  0]\n",
      " [22 26]]\n",
      "accuracy of model: 81.66666666666667%\n"
     ]
    }
   ],
   "source": [
    "print(\"confusion matix\")\n",
    "print (cm)\n",
    "print(\"accuracy of model: {0}%\".format(accuracy_score(y_test, y_pred)*100))"
   ]
  },
  {
   "cell_type": "code",
   "execution_count": 18,
   "id": "38894ae9",
   "metadata": {},
   "outputs": [
    {
     "data": {
      "text/plain": [
       "81.66666666666667"
      ]
     },
     "execution_count": 18,
     "metadata": {},
     "output_type": "execute_result"
    }
   ],
   "source": [
    "accuracy_score(y_test, y_pred)*100"
   ]
  },
  {
   "cell_type": "code",
   "execution_count": null,
   "id": "f82ae036",
   "metadata": {},
   "outputs": [],
   "source": []
  },
  {
   "cell_type": "code",
   "execution_count": null,
   "id": "6b3862c1",
   "metadata": {},
   "outputs": [],
   "source": []
  }
 ],
 "metadata": {
  "kernelspec": {
   "display_name": "Python 3 (ipykernel)",
   "language": "python",
   "name": "python3"
  },
  "language_info": {
   "codemirror_mode": {
    "name": "ipython",
    "version": 3
   },
   "file_extension": ".py",
   "mimetype": "text/x-python",
   "name": "python",
   "nbconvert_exporter": "python",
   "pygments_lexer": "ipython3",
   "version": "3.9.12"
  }
 },
 "nbformat": 4,
 "nbformat_minor": 5
}
